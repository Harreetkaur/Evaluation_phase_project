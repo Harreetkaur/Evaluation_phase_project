{
 "cells": [
  {
   "cell_type": "code",
   "execution_count": 1,
   "id": "4cb36d7c",
   "metadata": {},
   "outputs": [],
   "source": [
    "import pandas as pd\n",
    "from sklearn.model_selection import train_test_split\n",
    "from sklearn.preprocessing import LabelEncoder\n",
    "from sklearn.ensemble import RandomForestClassifier, RandomForestRegressor\n",
    "from sklearn.metrics import accuracy_score, mean_squared_error\n"
   ]
  },
  {
   "cell_type": "code",
   "execution_count": 2,
   "id": "590d6a09",
   "metadata": {},
   "outputs": [],
   "source": [
    "# Load the datasets\n",
    "urls = [\n",
    "    'https://raw.githubusercontent.com/FlipRoboTechnologies/ML_-Datasets/main/Global%20Power%20Plant%20Database/database_AUS.csv',\n",
    "    'https://raw.githubusercontent.com/FlipRoboTechnologies/ML_-Datasets/main/Global%20Power%20Plant%20Database/database_IND.csv',\n",
    "    'https://raw.githubusercontent.com/FlipRoboTechnologies/ML_-Datasets/main/Global%20Power%20Plant%20Database/database_USA.csv'\n",
    "]"
   ]
  },
  {
   "cell_type": "code",
   "execution_count": 3,
   "id": "d2867655",
   "metadata": {},
   "outputs": [],
   "source": [
    "# Combine the datasets into one DataFrame\n",
    "df_list = [pd.read_csv(url) for url in urls]\n",
    "df = pd.concat(df_list, ignore_index=True)\n"
   ]
  },
  {
   "cell_type": "code",
   "execution_count": 4,
   "id": "fc36384c",
   "metadata": {},
   "outputs": [],
   "source": [
    "# Drop rows with missing values in important columns\n",
    "df.dropna(subset=['primary_fuel', 'capacity_mw'], inplace=True)"
   ]
  },
  {
   "cell_type": "code",
   "execution_count": 5,
   "id": "29e5b888",
   "metadata": {},
   "outputs": [],
   "source": [
    "# Encode categorical features\n",
    "le_country = LabelEncoder()\n",
    "df['country'] = le_country.fit_transform(df['country'])\n",
    "\n",
    "le_primary_fuel = LabelEncoder()\n",
    "df['primary_fuel'] = le_primary_fuel.fit_transform(df['primary_fuel'])"
   ]
  },
  {
   "cell_type": "code",
   "execution_count": 6,
   "id": "24c01a6d",
   "metadata": {},
   "outputs": [],
   "source": [
    "# Prepare features and target variables\n",
    "X = df[['country', 'latitude', 'longitude', 'commissioning_year']]\n",
    "y_fuel = df['primary_fuel']\n",
    "y_capacity = df['capacity_mw']"
   ]
  },
  {
   "cell_type": "code",
   "execution_count": 7,
   "id": "da08cc0f",
   "metadata": {},
   "outputs": [],
   "source": [
    "# Drop rows with NaNs in X\n",
    "X = X.dropna()"
   ]
  },
  {
   "cell_type": "code",
   "execution_count": 8,
   "id": "d3b63002",
   "metadata": {},
   "outputs": [],
   "source": [
    "# Adjust y_fuel and y_capacity to match X\n",
    "y_fuel = y_fuel[X.index]\n",
    "y_capacity = y_capacity[X.index]"
   ]
  },
  {
   "cell_type": "code",
   "execution_count": 9,
   "id": "73df9eea",
   "metadata": {},
   "outputs": [],
   "source": [
    "# Split the data into training and testing sets\n",
    "X_train, X_test, y_fuel_train, y_fuel_test, y_capacity_train, y_capacity_test = train_test_split(X, y_fuel, y_capacity, test_size=0.2, random_state=42)"
   ]
  },
  {
   "cell_type": "code",
   "execution_count": 10,
   "id": "91d5b955",
   "metadata": {},
   "outputs": [],
   "source": [
    "# Train a RandomForestClassifier for primary fuel prediction\n",
    "rf_clf = RandomForestClassifier(random_state=42)\n",
    "rf_clf.fit(X_train, y_fuel_train)\n",
    "y_fuel_pred = rf_clf.predict(X_test)\n"
   ]
  },
  {
   "cell_type": "code",
   "execution_count": 11,
   "id": "aafa5f2c",
   "metadata": {},
   "outputs": [
    {
     "name": "stdout",
     "output_type": "stream",
     "text": [
      "Primary Fuel Prediction Accuracy: 71.64%\n"
     ]
    }
   ],
   "source": [
    "# Evaluate the classifier\n",
    "accuracy = accuracy_score(y_fuel_test, y_fuel_pred)\n",
    "print(f'Primary Fuel Prediction Accuracy: {accuracy * 100:.2f}%')"
   ]
  },
  {
   "cell_type": "code",
   "execution_count": 12,
   "id": "e067a8ca",
   "metadata": {},
   "outputs": [],
   "source": [
    "# Train a RandomForestRegressor for capacity prediction\n",
    "rf_reg = RandomForestRegressor(random_state=42)\n",
    "rf_reg.fit(X_train, y_capacity_train)\n",
    "y_capacity_pred = rf_reg.predict(X_test)"
   ]
  },
  {
   "cell_type": "code",
   "execution_count": 13,
   "id": "893e0f44",
   "metadata": {},
   "outputs": [
    {
     "name": "stdout",
     "output_type": "stream",
     "text": [
      "Capacity Prediction Mean Squared Error: 84887.48\n"
     ]
    }
   ],
   "source": [
    "# Evaluate the regressor\n",
    "mse = mean_squared_error(y_capacity_test, y_capacity_pred)\n",
    "print(f'Capacity Prediction Mean Squared Error: {mse:.2f}')\n",
    "\n",
    "# To make predictions on new data\n",
    "new_data = pd.DataFrame({\n",
    "    'country': ['USA'],\n",
    "    'latitude': [34.0522],\n",
    "    'longitude': [-118.2437],\n",
    "    'commissioning_year': [2020]\n",
    "})"
   ]
  },
  {
   "cell_type": "code",
   "execution_count": null,
   "id": "3250d2e6",
   "metadata": {},
   "outputs": [],
   "source": [
    "new_data['country'] = le_country.transform(new_data['country'])\n",
    "predicted_fuel = rf_clf.predict(new_data)\n",
    "predicted_capacity = rf_reg.predict(new_data)\n"
   ]
  },
  {
   "cell_type": "code",
   "execution_count": 15,
   "id": "ad67102d",
   "metadata": {},
   "outputs": [
    {
     "name": "stdout",
     "output_type": "stream",
     "text": [
      "Predicted Primary Fuel: ['Solar']\n",
      "Predicted Capacity (MW): 8.90\n"
     ]
    }
   ],
   "source": [
    "print(f'Predicted Primary Fuel: {le_primary_fuel.inverse_transform(predicted_fuel)}')\n",
    "print(f'Predicted Capacity (MW): {predicted_capacity[0]:.2f}')"
   ]
  },
  {
   "cell_type": "code",
   "execution_count": null,
   "id": "d33c7e6f",
   "metadata": {},
   "outputs": [],
   "source": []
  }
 ],
 "metadata": {
  "kernelspec": {
   "display_name": "Python 3 (ipykernel)",
   "language": "python",
   "name": "python3"
  },
  "language_info": {
   "codemirror_mode": {
    "name": "ipython",
    "version": 3
   },
   "file_extension": ".py",
   "mimetype": "text/x-python",
   "name": "python",
   "nbconvert_exporter": "python",
   "pygments_lexer": "ipython3",
   "version": "3.10.9"
  }
 },
 "nbformat": 4,
 "nbformat_minor": 5
}
